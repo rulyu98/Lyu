{
 "cells": [
  {
   "cell_type": "markdown",
   "metadata": {},
   "source": [
    "# Final Project: Chatbot for Milk Tea Orders\n",
    "# Objective:\n",
    "This project is to design a chatbot for automatic response to customers regarding their orders at Tapioca Express boba shop.\n",
    "\n",
    "This chatbot is able to provide greetings, tell customers about store informations, help customers complete orders and provide a total amount spent on this order.\n",
    "\n",
    "This chatbot relies on a outer \"Milk Tea Menu\" file and assumes that customers can see the menu and order on your phone. Once the customers type in the drink number, the system will print out the drink name and its price.\n"
   ]
  },
  {
   "cell_type": "code",
   "execution_count": 1,
   "metadata": {},
   "outputs": [],
   "source": [
    "#This is my first coding class, I learned a lot but I understand there is still a long way to go. \n",
    "#Thank you for a great quarter !"
   ]
  },
  {
   "cell_type": "code",
   "execution_count": 2,
   "metadata": {},
   "outputs": [
    {
     "name": "stdout",
     "output_type": "stream",
     "text": [
      "If you have any other questions, please call 858-322-0005 or email us at rulyu@ucsd.edu\n"
     ]
    }
   ],
   "source": [
    "import numpy as np\n",
    "import random\n",
    "import string\n",
    "from my_module import functions as fn"
   ]
  },
  {
   "cell_type": "code",
   "execution_count": 3,
   "metadata": {},
   "outputs": [],
   "source": [
    "file = open('milk_tea_menu.txt','r')\n",
    "# a milk tea menu that are avaliable to customers."
   ]
  },
  {
   "cell_type": "code",
   "execution_count": 4,
   "metadata": {
    "scrolled": false
   },
   "outputs": [
    {
     "name": "stdout",
     "output_type": "stream",
     "text": [
      " ❤️ ❤️ ❤️ ❤️ ❤️  \n",
      "|Tapioca Express|\n",
      "|Ordering System|\n",
      " ❤️ ❤️ ❤️ ❤️ ❤️  \n",
      "     Welcome!!!\n",
      "Our first spot is Store A is open from 9:30 am to 11:00 pm on Monday to Friday at 9500 Gilman Dr, La Jolla, CA 92093      Our second spot is Store B is open from 11:00 am to 11:00 pm on Monday to Friday at 7770 Regents Rd Ste 101, San Diego, CA 92122.   Our third spot is Store C is open from 11:00 am to 00:30 am on Monday to Sunday at 4646 Convoy St Ste 106B, San Diego, CA 92111\n",
      "Enter your option: a\n",
      "A-milk tea-$3.50\n",
      "Enter another number or enter X to exit\n",
      "Enter another option or X to quitb\n",
      "Enter another option or X to quitx\n",
      "Enter another option or X to quitx\n",
      "Enter another option or X to quitX\n",
      "Total Cost is $14.0\n",
      "Goodbye\n"
     ]
    }
   ],
   "source": [
    "fn.starts()\n",
    "fn.tell_time_and_locations()\n",
    "file = open('milk_tea_menu.txt','r')\n",
    "# open the milk tea menu\n",
    "\n",
    "user_response = input('Enter your option: ')\n",
    "user_response = user_response.upper()\n",
    "\n",
    "fn.respond_question(user_response)\n",
    "# if customer type ? , return my email to him or her for further questions.\n",
    "\n",
    "totalCost = 0.0\n",
    "\n",
    "while(user_response != 'X'):\n",
    "    \n",
    "    totalCost += float(fn.Place_order(user_response,file))\n",
    "    user_response = input('Enter another option or X to quit')\n",
    "\n",
    "fn.respond_question(user_response)\n",
    "print(\"Total Cost is $\"+ str(totalCost))\n",
    "print('Goodbye')\n",
    "file.close()"
   ]
  },
  {
   "cell_type": "code",
   "execution_count": null,
   "metadata": {},
   "outputs": [],
   "source": []
  }
 ],
 "metadata": {
  "kernelspec": {
   "display_name": "Python 3",
   "language": "python",
   "name": "python3"
  },
  "language_info": {
   "codemirror_mode": {
    "name": "ipython",
    "version": 3
   },
   "file_extension": ".py",
   "mimetype": "text/x-python",
   "name": "python",
   "nbconvert_exporter": "python",
   "pygments_lexer": "ipython3",
   "version": "3.6.7"
  }
 },
 "nbformat": 4,
 "nbformat_minor": 2
}
